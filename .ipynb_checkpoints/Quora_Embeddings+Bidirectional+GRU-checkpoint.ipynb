{
 "cells": [
  {
   "cell_type": "markdown",
   "metadata": {},
   "source": [
    "# Embedding + Bidirectional GRU"
   ]
  },
  {
   "cell_type": "code",
   "execution_count": 1,
   "metadata": {},
   "outputs": [
    {
     "name": "stderr",
     "output_type": "stream",
     "text": [
      "Using TensorFlow backend.\n"
     ]
    }
   ],
   "source": [
    "import os\n",
    "import time\n",
    "import numpy as np \n",
    "import pandas as pd \n",
    "from tqdm import tqdm\n",
    "import math\n",
    "from sklearn.model_selection import train_test_split\n",
    "from sklearn import metrics\n",
    "\n",
    "from keras.preprocessing.text import Tokenizer\n",
    "from keras.preprocessing.sequence import pad_sequences\n",
    "from keras.layers import Dense, Input, LSTM, Embedding, Dropout, Activation, GRU, Conv1D\n",
    "from keras.layers import Bidirectional, GlobalMaxPool1D\n",
    "from keras.models import Model\n",
    "from keras import initializers, regularizers, constraints, optimizers, layers"
   ]
  },
  {
   "cell_type": "markdown",
   "metadata": {},
   "source": [
    "#### Reading data"
   ]
  },
  {
   "cell_type": "code",
   "execution_count": 2,
   "metadata": {},
   "outputs": [],
   "source": [
    "dir_data = 'D:/Data_Master/Natural Language Processing/Project1/quora/'\n",
    "train_df = pd.read_csv(dir_data+'train.csv')\n",
    "dir_data = 'D:/Data_Master/Natural Language Processing/Project1/quora/'\n",
    "test_df = pd.read_csv(dir_data+'test.csv')"
   ]
  },
  {
   "cell_type": "markdown",
   "metadata": {},
   "source": [
    "#### Some preprocessing"
   ]
  },
  {
   "cell_type": "markdown",
   "metadata": {},
   "source": [
    "Contractions"
   ]
  },
  {
   "cell_type": "code",
   "execution_count": 3,
   "metadata": {},
   "outputs": [
    {
     "data": {
      "text/plain": [
       "162"
      ]
     },
     "execution_count": 3,
     "metadata": {},
     "output_type": "execute_result"
    }
   ],
   "source": [
    "contraction_mapping = {\"ain't\": \"is not\", \"aren't\": \"are not\",\"can't\": \"cannot\", \"'cause\": \"because\", \"could've\": \"could have\", \"couldn't\": \"could not\", \"didn't\": \"did not\",  \"doesn't\": \"does not\", \"don't\": \"do not\", \"hadn't\": \"had not\", \"hasn't\": \"has not\", \"haven't\": \"have not\", \"he'd\": \"he would\",\"he'll\": \"he will\", \"he's\": \"he is\", \"how'd\": \"how did\", \"how'd'y\": \"how do you\", \"how'll\": \"how will\", \"how's\": \"how is\",  \"I'd\": \"I would\", \"I'd've\": \"I would have\", \"I'll\": \"I will\", \"I'll've\": \"I will have\",\"I'm\": \"I am\", \"I've\": \"I have\", \"i'd\": \"i would\", \"i'd've\": \"i would have\", \"i'll\": \"i will\",  \"i'll've\": \"i will have\",\"i'm\": \"i am\", \"i've\": \"i have\", \"isn't\": \"is not\", \"it'd\": \"it would\", \"it'd've\": \"it would have\", \"it'll\": \"it will\", \"it'll've\": \"it will have\",\"it's\": \"it is\", \"let's\": \"let us\", \"ma'am\": \"madam\", \"mayn't\": \"may not\", \"might've\": \"might have\",\"mightn't\": \"might not\",\"mightn't've\": \"might not have\", \"must've\": \"must have\", \"mustn't\": \"must not\", \"mustn't've\": \"must not have\", \"needn't\": \"need not\", \"needn't've\": \"need not have\",\"o'clock\": \"of the clock\", \"oughtn't\": \"ought not\", \"oughtn't've\": \"ought not have\", \"shan't\": \"shall not\", \"sha'n't\": \"shall not\", \"shan't've\": \"shall not have\", \"she'd\": \"she would\", \"she'd've\": \"she would have\", \"she'll\": \"she will\", \"she'll've\": \"she will have\", \"she's\": \"she is\", \"should've\": \"should have\", \"shouldn't\": \"should not\", \"shouldn't've\": \"should not have\", \"so've\": \"so have\",\"so's\": \"so as\", \"this's\": \"this is\",\"that'd\": \"that would\", \"that'd've\": \"that would have\", \"that's\": \"that is\", \"there'd\": \"there would\", \"there'd've\": \"there would have\", \"there's\": \"there is\", \"here's\": \"here is\",\"they'd\": \"they would\", \"they'd've\": \"they would have\", \"they'll\": \"they will\", \"they'll've\": \"they will have\", \"they're\": \"they are\", \"they've\": \"they have\", \"to've\": \"to have\", \"wasn't\": \"was not\", \"we'd\": \"we would\", \"we'd've\": \"we would have\", \"we'll\": \"we will\", \"we'll've\": \"we will have\", \"we're\": \"we are\", \"we've\": \"we have\", \"weren't\": \"were not\", \"what'll\": \"what will\", \"what'll've\": \"what will have\", \"what're\": \"what are\",  \"what's\": \"what is\", \"what've\": \"what have\", \"when's\": \"when is\", \"when've\": \"when have\", \"where'd\": \"where did\", \"where's\": \"where is\", \"where've\": \"where have\", \"who'll\": \"who will\", \"who'll've\": \"who will have\", \"who's\": \"who is\", \"who've\": \"who have\", \"why's\": \"why is\", \"why've\": \"why have\", \"will've\": \"will have\", \"won't\": \"will not\", \"won't've\": \"will not have\", \"would've\": \"would have\", \"wouldn't\": \"would not\", \"wouldn't've\": \"would not have\", \"y'all\": \"you all\", \"y'all'd\": \"you all would\",\"y'all'd've\": \"you all would have\",\"y'all're\": \"you all are\",\"y'all've\": \"you all have\",\"you'd\": \"you would\", \"you'd've\": \"you would have\", \"you'll\": \"you will\", \"you'll've\": \"you will have\", \"you're\": \"you are\", \"you've\": \"you have\", 'colour': 'color', 'centre': 'center', 'favourite': 'favorite', 'travelling': 'traveling', 'counselling': 'counseling', 'theatre': 'theater', 'cancelled': 'canceled', 'labour': 'labor', 'organisation': 'organization', 'wwii': 'world war 2', 'citicise': 'criticize', 'youtu ': 'youtube ', 'Qoura': 'Quora', 'sallary': 'salary', 'Whta': 'What', 'narcisist': 'narcissist', 'howdo': 'how do', 'whatare': 'what are', 'howcan': 'how can', 'howmuch': 'how much', 'howmany': 'how many', 'whydo': 'why do', 'doI': 'do I', 'theBest': 'the best', 'howdoes': 'how does', 'mastrubation': 'masturbation', 'mastrubate': 'masturbate', \"mastrubating\": 'masturbating', 'pennis': 'penis', 'Etherium': 'Ethereum', 'narcissit': 'narcissist', 'bigdata': 'big data', '2k17': '2017', '2k18': '2018', 'qouta': 'quota', 'exboyfriend': 'ex boyfriend', 'airhostess': 'air hostess', \"whst\": 'what', 'watsapp': 'whatsapp', 'demonitisation': 'demonetization', 'demonitization': 'demonetization', 'demonetisation': 'demonetization'}\n",
    "\n",
    "def clean_contractions(text, mapping):\n",
    "    specials = [\"’\", \"‘\", \"´\", \"`\"]\n",
    "    for s in specials:\n",
    "        text = text.replace(s, \"'\")\n",
    "    text = ' '.join([mapping[t] if t in mapping else t for t in text.split(\" \")])\n",
    "    return text\n",
    "\n",
    "len(contraction_mapping)"
   ]
  },
  {
   "cell_type": "code",
   "execution_count": 4,
   "metadata": {},
   "outputs": [],
   "source": [
    "train_df['question_text'] = train_df['question_text'].apply(lambda x: clean_contractions(x, contraction_mapping))\n",
    "test_df['question_text'] = test_df['question_text'].apply(lambda x: clean_contractions(x, contraction_mapping))"
   ]
  },
  {
   "cell_type": "markdown",
   "metadata": {},
   "source": [
    "Lower"
   ]
  },
  {
   "cell_type": "code",
   "execution_count": 5,
   "metadata": {},
   "outputs": [],
   "source": [
    "train_df['question_text'] = train_df['question_text'].apply(lambda x: x.lower())\n",
    "test_df['question_text'] = train_df['question_text'].apply(lambda x: x.lower())"
   ]
  },
  {
   "cell_type": "code",
   "execution_count": 6,
   "metadata": {},
   "outputs": [],
   "source": [
    "punct_mapping = \"/-'?!.,#$%\\'()*+-/:;<=>@[\\\\]^_`{|}~\" + '\"\"“”’' + '∞θ÷α•à−β∅³π‘₹´°£€\\×™√²—–&'\n",
    "punct_mapping += '©^®` <→°€™› ♥←×§″′Â█½à…“★”–●â►−¢²¬░¶↑±¿▾═¦║―¥▓—‹─▒：¼⊕▼▪†■’▀¨▄♫☆é¯♦¤▲è¸¾Ã⋅‘∞∙）↓、│（»，♪╩╚³・╦╣╔╗▬❤ïØ¹≤‡√'\n",
    "puncts = {\"‘\": \"'\", \"´\": \"'\", \"°\": \"\", \"€\": \"e\", \"—\": \"-\", \"–\": \"-\", \"’\": \"'\", \"_\": \"-\", \"`\": \"'\", '“': '\"', '”': '\"', '“': '\"', \"£\": \"e\", '∞': 'infinity', 'θ': 'theta', '÷': '/', 'α': 'alpha', '•': '.', 'à': 'a', '−': '-', 'β': 'beta', '∅': '', '³': '3', 'π': 'pi', '…': ' '}\n",
    "\n",
    "def clean_special_chars(text, punct, mapping):\n",
    "    for p in mapping:\n",
    "        text = text.replace(p, mapping[p])\n",
    "    \n",
    "    for p in punct:\n",
    "        text = text.replace(p, f' {p} ')\n",
    "    \n",
    "    return text\n"
   ]
  },
  {
   "cell_type": "code",
   "execution_count": 7,
   "metadata": {},
   "outputs": [],
   "source": [
    "train_df['question_text'] = train_df['question_text'].apply(lambda x: clean_special_chars(x, punct_mapping, puncts))\n",
    "test_df['question_text'] = test_df['question_text'].apply(lambda x: clean_special_chars(x, punct_mapping, puncts))"
   ]
  },
  {
   "cell_type": "markdown",
   "metadata": {},
   "source": [
    "#### Tokenizing the words for posterior embedding"
   ]
  },
  {
   "cell_type": "code",
   "execution_count": 11,
   "metadata": {},
   "outputs": [],
   "source": [
    "train_df, val_df = train_test_split(train_df, test_size=0.2, stratify=train_df['target'], random_state=123)\n",
    "\n",
    "## Values of embeddings\n",
    "embed_size = 300 \n",
    "max_features = 50000 \n",
    "maxlen = 100 \n",
    "\n",
    "train_X = train_df[\"question_text\"].fillna(\"_na_\").values\n",
    "val_X = val_df[\"question_text\"].fillna(\"_na_\").values\n",
    "test_X = test_df[\"question_text\"].fillna(\"_na_\").values\n",
    "\n",
    "## Tokenize the sentences\n",
    "tokenizer = Tokenizer(num_words=max_features)\n",
    "tokenizer.fit_on_texts(list(train_X))\n",
    "train_X = tokenizer.texts_to_sequences(train_X)\n",
    "val_X = tokenizer.texts_to_sequences(val_X)\n",
    "test_X = tokenizer.texts_to_sequences(test_X)\n",
    "\n",
    "## Pad the sentences \n",
    "train_X = pad_sequences(train_X, maxlen=maxlen)\n",
    "val_X = pad_sequences(val_X, maxlen=maxlen)\n",
    "test_X = pad_sequences(test_X, maxlen=maxlen)\n",
    "\n",
    "## Get the target values\n",
    "train_y = train_df['target'].values\n",
    "val_y = val_df['target'].values\n",
    "\n",
    "\n",
    "## Shuffling data\n",
    "np.random.seed(42)\n",
    "\n",
    "trn_idx = np.random.permutation(len(train_X))\n",
    "val_idx = np.random.permutation(len(val_X))\n",
    "\n",
    "train_X = train_X[trn_idx]\n",
    "train_y = train_y[trn_idx]\n",
    "val_X = val_X[val_idx]\n",
    "val_y = val_y[val_idx]"
   ]
  },
  {
   "cell_type": "markdown",
   "metadata": {},
   "source": [
    "#### Defining model: Bidirectional GRU + Embeddings"
   ]
  },
  {
   "cell_type": "code",
   "execution_count": 12,
   "metadata": {},
   "outputs": [
    {
     "name": "stdout",
     "output_type": "stream",
     "text": [
      "WARNING:tensorflow:From C:\\Users\\polaz\\AppData\\Roaming\\Python\\Python36\\site-packages\\tensorflow\\python\\framework\\op_def_library.py:263: colocate_with (from tensorflow.python.framework.ops) is deprecated and will be removed in a future version.\n",
      "Instructions for updating:\n",
      "Colocations handled automatically by placer.\n",
      "WARNING:tensorflow:From D:\\Program Files\\Anaconda\\lib\\site-packages\\keras\\backend\\tensorflow_backend.py:3445: calling dropout (from tensorflow.python.ops.nn_ops) with keep_prob is deprecated and will be removed in a future version.\n",
      "Instructions for updating:\n",
      "Please use `rate` instead of `keep_prob`. Rate should be set to `rate = 1 - keep_prob`.\n",
      "_________________________________________________________________\n",
      "Layer (type)                 Output Shape              Param #   \n",
      "=================================================================\n",
      "input_1 (InputLayer)         (None, 100)               0         \n",
      "_________________________________________________________________\n",
      "embedding_1 (Embedding)      (None, 100, 300)          15000000  \n",
      "_________________________________________________________________\n",
      "bidirectional_1 (Bidirection (None, 100, 128)          140160    \n",
      "_________________________________________________________________\n",
      "global_max_pooling1d_1 (Glob (None, 128)               0         \n",
      "_________________________________________________________________\n",
      "dense_1 (Dense)              (None, 16)                2064      \n",
      "_________________________________________________________________\n",
      "dropout_1 (Dropout)          (None, 16)                0         \n",
      "_________________________________________________________________\n",
      "dense_2 (Dense)              (None, 1)                 17        \n",
      "=================================================================\n",
      "Total params: 15,142,241\n",
      "Trainable params: 15,142,241\n",
      "Non-trainable params: 0\n",
      "_________________________________________________________________\n",
      "None\n"
     ]
    }
   ],
   "source": [
    "inp = Input(shape=(maxlen,))\n",
    "x = Embedding(max_features, embed_size)(inp)\n",
    "x = Bidirectional(GRU(64, return_sequences=True))(x)\n",
    "x = GlobalMaxPool1D()(x)\n",
    "x = Dense(16, activation=\"relu\")(x)\n",
    "x = Dropout(0.1)(x)\n",
    "x = Dense(1, activation=\"sigmoid\")(x)\n",
    "model = Model(inputs=inp, outputs=x)\n",
    "model.compile(loss='binary_crossentropy', optimizer='adam', metrics=['accuracy'])\n",
    "\n",
    "print(model.summary())"
   ]
  },
  {
   "cell_type": "markdown",
   "metadata": {},
   "source": [
    "#### Training"
   ]
  },
  {
   "cell_type": "code",
   "execution_count": null,
   "metadata": {},
   "outputs": [
    {
     "name": "stdout",
     "output_type": "stream",
     "text": [
      "WARNING:tensorflow:From C:\\Users\\polaz\\AppData\\Roaming\\Python\\Python36\\site-packages\\tensorflow\\python\\ops\\math_ops.py:3066: to_int32 (from tensorflow.python.ops.math_ops) is deprecated and will be removed in a future version.\n",
      "Instructions for updating:\n",
      "Use tf.cast instead.\n",
      "WARNING:tensorflow:From C:\\Users\\polaz\\AppData\\Roaming\\Python\\Python36\\site-packages\\tensorflow\\python\\ops\\math_grad.py:102: div (from tensorflow.python.ops.math_ops) is deprecated and will be removed in a future version.\n",
      "Instructions for updating:\n",
      "Deprecated in favor of operator or tf.math.divide.\n",
      "Train on 835917 samples, validate on 208980 samples\n",
      "Epoch 1/2\n"
     ]
    },
    {
     "name": "stdout",
     "output_type": "stream",
     "text": [
      "104448/835917 [==>...........................] - ETA: 1:16:48 - loss: 0.6877 - acc: 0.73 - ETA: 53:59 - loss: 0.6746 - acc: 0.8311 - ETA: 46:36 - loss: 0.6610 - acc: 0.87 - ETA: 42:12 - loss: 0.6485 - acc: 0.88 - ETA: 40:22 - loss: 0.6350 - acc: 0.89 - ETA: 38:43 - loss: 0.6221 - acc: 0.89 - ETA: 37:42 - loss: 0.6083 - acc: 0.90 - ETA: 36:41 - loss: 0.5930 - acc: 0.90 - ETA: 36:01 - loss: 0.5794 - acc: 0.91 - ETA: 35:35 - loss: 0.5637 - acc: 0.91 - ETA: 35:06 - loss: 0.5482 - acc: 0.91 - ETA: 34:43 - loss: 0.5330 - acc: 0.91 - ETA: 34:19 - loss: 0.5199 - acc: 0.91 - ETA: 34:06 - loss: 0.5059 - acc: 0.92 - ETA: 33:50 - loss: 0.4934 - acc: 0.92 - ETA: 33:42 - loss: 0.4792 - acc: 0.92 - ETA: 33:29 - loss: 0.4659 - acc: 0.92 - ETA: 33:26 - loss: 0.4537 - acc: 0.92 - ETA: 33:20 - loss: 0.4450 - acc: 0.92 - ETA: 33:14 - loss: 0.4344 - acc: 0.92 - ETA: 33:11 - loss: 0.4267 - acc: 0.92 - ETA: 33:06 - loss: 0.4195 - acc: 0.92 - ETA: 33:02 - loss: 0.4130 - acc: 0.92 - ETA: 32:54 - loss: 0.4060 - acc: 0.92 - ETA: 32:50 - loss: 0.3990 - acc: 0.92 - ETA: 32:45 - loss: 0.3939 - acc: 0.92 - ETA: 32:43 - loss: 0.3868 - acc: 0.92 - ETA: 32:37 - loss: 0.3829 - acc: 0.92 - ETA: 32:35 - loss: 0.3788 - acc: 0.92 - ETA: 32:30 - loss: 0.3740 - acc: 0.92 - ETA: 32:29 - loss: 0.3713 - acc: 0.92 - ETA: 32:28 - loss: 0.3667 - acc: 0.92 - ETA: 32:26 - loss: 0.3610 - acc: 0.92 - ETA: 32:24 - loss: 0.3570 - acc: 0.92 - ETA: 32:20 - loss: 0.3540 - acc: 0.92 - ETA: 32:19 - loss: 0.3515 - acc: 0.92 - ETA: 32:15 - loss: 0.3473 - acc: 0.93 - ETA: 32:15 - loss: 0.3437 - acc: 0.93 - ETA: 32:12 - loss: 0.3390 - acc: 0.93 - ETA: 32:12 - loss: 0.3372 - acc: 0.93 - ETA: 32:10 - loss: 0.3347 - acc: 0.93 - ETA: 32:08 - loss: 0.3331 - acc: 0.93 - ETA: 32:07 - loss: 0.3297 - acc: 0.93 - ETA: 32:05 - loss: 0.3277 - acc: 0.93 - ETA: 32:03 - loss: 0.3248 - acc: 0.93 - ETA: 32:04 - loss: 0.3232 - acc: 0.93 - ETA: 32:05 - loss: 0.3219 - acc: 0.93 - ETA: 32:03 - loss: 0.3201 - acc: 0.93 - ETA: 32:02 - loss: 0.3177 - acc: 0.93 - ETA: 32:01 - loss: 0.3162 - acc: 0.93 - ETA: 32:01 - loss: 0.3143 - acc: 0.93 - ETA: 31:59 - loss: 0.3127 - acc: 0.93 - ETA: 31:59 - loss: 0.3109 - acc: 0.93 - ETA: 31:59 - loss: 0.3084 - acc: 0.93 - ETA: 31:57 - loss: 0.3063 - acc: 0.93 - ETA: 31:56 - loss: 0.3047 - acc: 0.93 - ETA: 31:54 - loss: 0.3033 - acc: 0.93 - ETA: 31:54 - loss: 0.3016 - acc: 0.93 - ETA: 31:54 - loss: 0.2999 - acc: 0.93 - ETA: 31:53 - loss: 0.2981 - acc: 0.93 - ETA: 31:52 - loss: 0.2966 - acc: 0.93 - ETA: 31:52 - loss: 0.2948 - acc: 0.93 - ETA: 31:50 - loss: 0.2933 - acc: 0.93 - ETA: 31:50 - loss: 0.2918 - acc: 0.93 - ETA: 31:49 - loss: 0.2903 - acc: 0.93 - ETA: 31:46 - loss: 0.2895 - acc: 0.93 - ETA: 31:45 - loss: 0.2878 - acc: 0.93 - ETA: 31:44 - loss: 0.2863 - acc: 0.93 - ETA: 31:43 - loss: 0.2850 - acc: 0.93 - ETA: 31:43 - loss: 0.2832 - acc: 0.93 - ETA: 31:43 - loss: 0.2819 - acc: 0.93 - ETA: 31:44 - loss: 0.2808 - acc: 0.93 - ETA: 31:44 - loss: 0.2789 - acc: 0.93 - ETA: 31:43 - loss: 0.2776 - acc: 0.93 - ETA: 31:42 - loss: 0.2765 - acc: 0.93 - ETA: 31:40 - loss: 0.2750 - acc: 0.93 - ETA: 31:39 - loss: 0.2733 - acc: 0.93 - ETA: 31:39 - loss: 0.2720 - acc: 0.93 - ETA: 31:38 - loss: 0.2701 - acc: 0.93 - ETA: 31:37 - loss: 0.2685 - acc: 0.93 - ETA: 31:36 - loss: 0.2673 - acc: 0.93 - ETA: 31:36 - loss: 0.2662 - acc: 0.93 - ETA: 31:34 - loss: 0.2647 - acc: 0.93 - ETA: 31:34 - loss: 0.2629 - acc: 0.93 - ETA: 31:34 - loss: 0.2617 - acc: 0.93 - ETA: 31:34 - loss: 0.2600 - acc: 0.93 - ETA: 31:33 - loss: 0.2587 - acc: 0.93 - ETA: 31:33 - loss: 0.2574 - acc: 0.93 - ETA: 31:33 - loss: 0.2561 - acc: 0.93 - ETA: 31:32 - loss: 0.2550 - acc: 0.93 - ETA: 31:32 - loss: 0.2538 - acc: 0.93 - ETA: 31:31 - loss: 0.2530 - acc: 0.93 - ETA: 31:30 - loss: 0.2516 - acc: 0.93 - ETA: 31:29 - loss: 0.2511 - acc: 0.93 - ETA: 31:29 - loss: 0.2498 - acc: 0.93 - ETA: 31:29 - loss: 0.2492 - acc: 0.93 - ETA: 31:29 - loss: 0.2477 - acc: 0.93 - ETA: 31:28 - loss: 0.2468 - acc: 0.93 - ETA: 31:27 - loss: 0.2457 - acc: 0.93 - ETA: 31:27 - loss: 0.2447 - acc: 0.93 - ETA: 31:26 - loss: 0.2436 - acc: 0.93 - ETA: 31:25 - loss: 0.2429 - acc: 0.93 - ETA: 31:24 - loss: 0.2420 - acc: 0.93 - ETA: 31:23 - loss: 0.2411 - acc: 0.93 - ETA: 31:23 - loss: 0.2405 - acc: 0.93 - ETA: 31:22 - loss: 0.2394 - acc: 0.93 - ETA: 31:21 - loss: 0.2389 - acc: 0.93 - ETA: 31:20 - loss: 0.2378 - acc: 0.93 - ETA: 31:19 - loss: 0.2369 - acc: 0.93 - ETA: 31:20 - loss: 0.2358 - acc: 0.93 - ETA: 31:19 - loss: 0.2350 - acc: 0.93 - ETA: 31:18 - loss: 0.2341 - acc: 0.93 - ETA: 31:18 - loss: 0.2332 - acc: 0.93 - ETA: 31:17 - loss: 0.2325 - acc: 0.93 - ETA: 31:17 - loss: 0.2314 - acc: 0.93 - ETA: 31:16 - loss: 0.2307 - acc: 0.93 - ETA: 31:16 - loss: 0.2299 - acc: 0.93 - ETA: 31:16 - loss: 0.2292 - acc: 0.93 - ETA: 31:16 - loss: 0.2284 - acc: 0.93 - ETA: 31:15 - loss: 0.2278 - acc: 0.93 - ETA: 31:15 - loss: 0.2269 - acc: 0.93 - ETA: 31:14 - loss: 0.2261 - acc: 0.93 - ETA: 31:14 - loss: 0.2254 - acc: 0.93 - ETA: 31:13 - loss: 0.2247 - acc: 0.93 - ETA: 31:12 - loss: 0.2240 - acc: 0.93 - ETA: 31:11 - loss: 0.2233 - acc: 0.93 - ETA: 31:10 - loss: 0.2226 - acc: 0.93 - ETA: 31:09 - loss: 0.2215 - acc: 0.93 - ETA: 31:09 - loss: 0.2211 - acc: 0.93 - ETA: 31:08 - loss: 0.2205 - acc: 0.93 - ETA: 31:07 - loss: 0.2199 - acc: 0.93 - ETA: 31:06 - loss: 0.2189 - acc: 0.93 - ETA: 31:06 - loss: 0.2182 - acc: 0.93 - ETA: 31:05 - loss: 0.2176 - acc: 0.93 - ETA: 31:05 - loss: 0.2172 - acc: 0.93 - ETA: 31:04 - loss: 0.2168 - acc: 0.93 - ETA: 31:03 - loss: 0.2163 - acc: 0.93 - ETA: 31:02 - loss: 0.2159 - acc: 0.93 - ETA: 31:01 - loss: 0.2155 - acc: 0.93 - ETA: 31:01 - loss: 0.2148 - acc: 0.93 - ETA: 31:01 - loss: 0.2143 - acc: 0.93 - ETA: 31:00 - loss: 0.2137 - acc: 0.93 - ETA: 31:00 - loss: 0.2129 - acc: 0.93 - ETA: 30:59 - loss: 0.2124 - acc: 0.93 - ETA: 30:58 - loss: 0.2117 - acc: 0.93 - ETA: 30:58 - loss: 0.2114 - acc: 0.93 - ETA: 30:58 - loss: 0.2108 - acc: 0.93 - ETA: 30:57 - loss: 0.2100 - acc: 0.93 - ETA: 30:56 - loss: 0.2092 - acc: 0.93 - ETA: 30:54 - loss: 0.2088 - acc: 0.93 - ETA: 30:53 - loss: 0.2082 - acc: 0.93 - ETA: 30:53 - loss: 0.2078 - acc: 0.93 - ETA: 30:52 - loss: 0.2073 - acc: 0.93 - ETA: 30:51 - loss: 0.2070 - acc: 0.93 - ETA: 30:50 - loss: 0.2066 - acc: 0.93 - ETA: 30:49 - loss: 0.2060 - acc: 0.94 - ETA: 30:48 - loss: 0.2057 - acc: 0.93 - ETA: 30:47 - loss: 0.2053 - acc: 0.94 - ETA: 30:46 - loss: 0.2051 - acc: 0.94 - ETA: 30:46 - loss: 0.2048 - acc: 0.94 - ETA: 30:45 - loss: 0.2042 - acc: 0.94 - ETA: 30:44 - loss: 0.2036 - acc: 0.94 - ETA: 30:43 - loss: 0.2032 - acc: 0.94 - ETA: 30:42 - loss: 0.2028 - acc: 0.94 - ETA: 30:42 - loss: 0.2026 - acc: 0.94 - ETA: 30:41 - loss: 0.2022 - acc: 0.94 - ETA: 30:40 - loss: 0.2019 - acc: 0.94 - ETA: 30:39 - loss: 0.2013 - acc: 0.94 - ETA: 30:38 - loss: 0.2008 - acc: 0.94 - ETA: 30:37 - loss: 0.2002 - acc: 0.94 - ETA: 30:37 - loss: 0.1998 - acc: 0.94 - ETA: 30:36 - loss: 0.1993 - acc: 0.94 - ETA: 30:35 - loss: 0.1988 - acc: 0.94 - ETA: 30:35 - loss: 0.1985 - acc: 0.94 - ETA: 30:34 - loss: 0.1983 - acc: 0.94 - ETA: 30:33 - loss: 0.1981 - acc: 0.94 - ETA: 30:32 - loss: 0.1977 - acc: 0.94 - ETA: 30:31 - loss: 0.1975 - acc: 0.94 - ETA: 30:30 - loss: 0.1971 - acc: 0.94 - ETA: 30:29 - loss: 0.1970 - acc: 0.94 - ETA: 30:28 - loss: 0.1965 - acc: 0.94 - ETA: 30:27 - loss: 0.1962 - acc: 0.94 - ETA: 30:26 - loss: 0.1961 - acc: 0.94 - ETA: 30:25 - loss: 0.1956 - acc: 0.94 - ETA: 30:24 - loss: 0.1952 - acc: 0.94 - ETA: 30:23 - loss: 0.1947 - acc: 0.94 - ETA: 30:22 - loss: 0.1943 - acc: 0.94 - ETA: 30:21 - loss: 0.1939 - acc: 0.94 - ETA: 30:21 - loss: 0.1939 - acc: 0.94 - ETA: 30:20 - loss: 0.1937 - acc: 0.94 - ETA: 30:19 - loss: 0.1935 - acc: 0.94 - ETA: 30:18 - loss: 0.1933 - acc: 0.94 - ETA: 30:17 - loss: 0.1931 - acc: 0.94 - ETA: 30:16 - loss: 0.1928 - acc: 0.94 - ETA: 30:15 - loss: 0.1923 - acc: 0.94 - ETA: 30:15 - loss: 0.1919 - acc: 0.94 - ETA: 30:14 - loss: 0.1916 - acc: 0.94 - ETA: 30:13 - loss: 0.1914 - acc: 0.94 - ETA: 30:12 - loss: 0.1911 - acc: 0.94 - ETA: 30:11 - loss: 0.1907 - acc: 0.94 - ETA: 30:10 - loss: 0.1904 - acc: 0.94 - ETA: 30:09 - loss: 0.1900 - acc: 0.94 - ETA: 30:08 - loss: 0.1899 - acc: 0.94 - ETA: 30:07 - loss: 0.1894 - acc: 0.9420"
     ]
    },
    {
     "name": "stdout",
     "output_type": "stream",
     "text": [
      "208896/835917 [======>.......................] - ETA: 30:06 - loss: 0.1893 - acc: 0.94 - ETA: 30:04 - loss: 0.1890 - acc: 0.94 - ETA: 30:03 - loss: 0.1886 - acc: 0.94 - ETA: 30:02 - loss: 0.1886 - acc: 0.94 - ETA: 30:01 - loss: 0.1883 - acc: 0.94 - ETA: 30:01 - loss: 0.1881 - acc: 0.94 - ETA: 30:02 - loss: 0.1877 - acc: 0.94 - ETA: 30:01 - loss: 0.1874 - acc: 0.94 - ETA: 30:00 - loss: 0.1871 - acc: 0.94 - ETA: 29:59 - loss: 0.1868 - acc: 0.94 - ETA: 29:58 - loss: 0.1867 - acc: 0.94 - ETA: 29:57 - loss: 0.1864 - acc: 0.94 - ETA: 29:56 - loss: 0.1861 - acc: 0.94 - ETA: 29:55 - loss: 0.1859 - acc: 0.94 - ETA: 29:54 - loss: 0.1857 - acc: 0.94 - ETA: 29:53 - loss: 0.1855 - acc: 0.94 - ETA: 29:52 - loss: 0.1853 - acc: 0.94 - ETA: 29:51 - loss: 0.1851 - acc: 0.94 - ETA: 29:50 - loss: 0.1848 - acc: 0.94 - ETA: 29:48 - loss: 0.1845 - acc: 0.94 - ETA: 29:47 - loss: 0.1845 - acc: 0.94 - ETA: 29:46 - loss: 0.1844 - acc: 0.94 - ETA: 29:45 - loss: 0.1841 - acc: 0.94 - ETA: 29:43 - loss: 0.1838 - acc: 0.94 - ETA: 29:42 - loss: 0.1837 - acc: 0.94 - ETA: 29:41 - loss: 0.1834 - acc: 0.94 - ETA: 29:39 - loss: 0.1833 - acc: 0.94 - ETA: 29:38 - loss: 0.1831 - acc: 0.94 - ETA: 29:38 - loss: 0.1829 - acc: 0.94 - ETA: 29:37 - loss: 0.1826 - acc: 0.94 - ETA: 29:36 - loss: 0.1824 - acc: 0.94 - ETA: 29:35 - loss: 0.1823 - acc: 0.94 - ETA: 29:34 - loss: 0.1821 - acc: 0.94 - ETA: 29:33 - loss: 0.1820 - acc: 0.94 - ETA: 29:32 - loss: 0.1818 - acc: 0.94 - ETA: 29:30 - loss: 0.1816 - acc: 0.94 - ETA: 29:29 - loss: 0.1813 - acc: 0.94 - ETA: 29:28 - loss: 0.1809 - acc: 0.94 - ETA: 29:27 - loss: 0.1808 - acc: 0.94 - ETA: 29:26 - loss: 0.1806 - acc: 0.94 - ETA: 29:25 - loss: 0.1804 - acc: 0.94 - ETA: 29:24 - loss: 0.1803 - acc: 0.94 - ETA: 29:22 - loss: 0.1801 - acc: 0.94 - ETA: 29:21 - loss: 0.1798 - acc: 0.94 - ETA: 29:20 - loss: 0.1796 - acc: 0.94 - ETA: 29:19 - loss: 0.1794 - acc: 0.94 - ETA: 29:18 - loss: 0.1793 - acc: 0.94 - ETA: 29:17 - loss: 0.1791 - acc: 0.94 - ETA: 29:16 - loss: 0.1788 - acc: 0.94 - ETA: 29:15 - loss: 0.1786 - acc: 0.94 - ETA: 29:14 - loss: 0.1784 - acc: 0.94 - ETA: 29:13 - loss: 0.1783 - acc: 0.94 - ETA: 29:12 - loss: 0.1781 - acc: 0.94 - ETA: 29:11 - loss: 0.1779 - acc: 0.94 - ETA: 29:10 - loss: 0.1777 - acc: 0.94 - ETA: 29:09 - loss: 0.1776 - acc: 0.94 - ETA: 29:08 - loss: 0.1774 - acc: 0.94 - ETA: 29:06 - loss: 0.1772 - acc: 0.94 - ETA: 29:05 - loss: 0.1770 - acc: 0.94 - ETA: 29:04 - loss: 0.1769 - acc: 0.94 - ETA: 29:02 - loss: 0.1766 - acc: 0.94 - ETA: 29:01 - loss: 0.1765 - acc: 0.94 - ETA: 29:00 - loss: 0.1762 - acc: 0.94 - ETA: 28:59 - loss: 0.1760 - acc: 0.94 - ETA: 28:58 - loss: 0.1760 - acc: 0.94 - ETA: 28:57 - loss: 0.1758 - acc: 0.94 - ETA: 28:56 - loss: 0.1756 - acc: 0.94 - ETA: 28:55 - loss: 0.1754 - acc: 0.94 - ETA: 28:53 - loss: 0.1752 - acc: 0.94 - ETA: 28:52 - loss: 0.1750 - acc: 0.94 - ETA: 28:51 - loss: 0.1748 - acc: 0.94 - ETA: 28:50 - loss: 0.1746 - acc: 0.94 - ETA: 28:49 - loss: 0.1744 - acc: 0.94 - ETA: 28:48 - loss: 0.1742 - acc: 0.94 - ETA: 28:47 - loss: 0.1741 - acc: 0.94 - ETA: 28:45 - loss: 0.1740 - acc: 0.94 - ETA: 28:44 - loss: 0.1738 - acc: 0.94 - ETA: 28:44 - loss: 0.1736 - acc: 0.94 - ETA: 28:42 - loss: 0.1735 - acc: 0.94 - ETA: 28:41 - loss: 0.1733 - acc: 0.94 - ETA: 28:40 - loss: 0.1732 - acc: 0.94 - ETA: 28:38 - loss: 0.1730 - acc: 0.94 - ETA: 28:37 - loss: 0.1730 - acc: 0.94 - ETA: 28:36 - loss: 0.1728 - acc: 0.94 - ETA: 28:35 - loss: 0.1726 - acc: 0.94 - ETA: 28:34 - loss: 0.1726 - acc: 0.94 - ETA: 28:32 - loss: 0.1726 - acc: 0.94 - ETA: 28:31 - loss: 0.1723 - acc: 0.94 - ETA: 28:30 - loss: 0.1722 - acc: 0.94 - ETA: 28:29 - loss: 0.1721 - acc: 0.94 - ETA: 28:28 - loss: 0.1719 - acc: 0.94 - ETA: 28:27 - loss: 0.1717 - acc: 0.94 - ETA: 28:26 - loss: 0.1716 - acc: 0.94 - ETA: 28:24 - loss: 0.1715 - acc: 0.94 - ETA: 28:23 - loss: 0.1714 - acc: 0.94 - ETA: 28:22 - loss: 0.1712 - acc: 0.94 - ETA: 28:21 - loss: 0.1710 - acc: 0.94 - ETA: 28:20 - loss: 0.1709 - acc: 0.94 - ETA: 28:18 - loss: 0.1707 - acc: 0.94 - ETA: 28:17 - loss: 0.1706 - acc: 0.94 - ETA: 28:16 - loss: 0.1704 - acc: 0.94 - ETA: 28:14 - loss: 0.1702 - acc: 0.94 - ETA: 28:13 - loss: 0.1701 - acc: 0.94 - ETA: 28:12 - loss: 0.1700 - acc: 0.94 - ETA: 28:11 - loss: 0.1698 - acc: 0.94 - ETA: 28:10 - loss: 0.1697 - acc: 0.94 - ETA: 28:08 - loss: 0.1696 - acc: 0.94 - ETA: 28:07 - loss: 0.1695 - acc: 0.94 - ETA: 28:06 - loss: 0.1694 - acc: 0.94 - ETA: 28:05 - loss: 0.1692 - acc: 0.94 - ETA: 28:03 - loss: 0.1691 - acc: 0.94 - ETA: 28:02 - loss: 0.1689 - acc: 0.94 - ETA: 28:01 - loss: 0.1689 - acc: 0.94 - ETA: 28:00 - loss: 0.1688 - acc: 0.94 - ETA: 27:59 - loss: 0.1686 - acc: 0.94 - ETA: 27:57 - loss: 0.1684 - acc: 0.94 - ETA: 27:56 - loss: 0.1682 - acc: 0.94 - ETA: 27:55 - loss: 0.1680 - acc: 0.94 - ETA: 27:54 - loss: 0.1678 - acc: 0.94 - ETA: 27:52 - loss: 0.1676 - acc: 0.94 - ETA: 27:51 - loss: 0.1674 - acc: 0.94 - ETA: 27:50 - loss: 0.1673 - acc: 0.94 - ETA: 27:49 - loss: 0.1671 - acc: 0.94 - ETA: 27:48 - loss: 0.1669 - acc: 0.94 - ETA: 27:47 - loss: 0.1669 - acc: 0.94 - ETA: 27:45 - loss: 0.1667 - acc: 0.94 - ETA: 27:44 - loss: 0.1665 - acc: 0.94 - ETA: 27:43 - loss: 0.1665 - acc: 0.94 - ETA: 27:42 - loss: 0.1663 - acc: 0.94 - ETA: 27:41 - loss: 0.1661 - acc: 0.94 - ETA: 27:40 - loss: 0.1659 - acc: 0.94 - ETA: 27:39 - loss: 0.1658 - acc: 0.94 - ETA: 27:37 - loss: 0.1656 - acc: 0.94 - ETA: 27:36 - loss: 0.1654 - acc: 0.94 - ETA: 27:35 - loss: 0.1653 - acc: 0.94 - ETA: 27:35 - loss: 0.1652 - acc: 0.94 - ETA: 27:34 - loss: 0.1651 - acc: 0.94 - ETA: 27:33 - loss: 0.1650 - acc: 0.94 - ETA: 27:32 - loss: 0.1649 - acc: 0.94 - ETA: 27:31 - loss: 0.1648 - acc: 0.94 - ETA: 27:30 - loss: 0.1646 - acc: 0.94 - ETA: 27:29 - loss: 0.1646 - acc: 0.94 - ETA: 27:28 - loss: 0.1644 - acc: 0.94 - ETA: 27:28 - loss: 0.1642 - acc: 0.94 - ETA: 27:27 - loss: 0.1640 - acc: 0.94 - ETA: 27:26 - loss: 0.1639 - acc: 0.94 - ETA: 27:25 - loss: 0.1639 - acc: 0.94 - ETA: 27:25 - loss: 0.1638 - acc: 0.94 - ETA: 27:24 - loss: 0.1637 - acc: 0.94 - ETA: 27:23 - loss: 0.1635 - acc: 0.94 - ETA: 27:23 - loss: 0.1634 - acc: 0.94 - ETA: 27:22 - loss: 0.1633 - acc: 0.94 - ETA: 27:21 - loss: 0.1632 - acc: 0.94 - ETA: 27:20 - loss: 0.1630 - acc: 0.94 - ETA: 27:18 - loss: 0.1630 - acc: 0.94 - ETA: 27:17 - loss: 0.1628 - acc: 0.94 - ETA: 27:16 - loss: 0.1626 - acc: 0.94 - ETA: 27:15 - loss: 0.1624 - acc: 0.94 - ETA: 27:14 - loss: 0.1623 - acc: 0.94 - ETA: 27:13 - loss: 0.1622 - acc: 0.94 - ETA: 27:13 - loss: 0.1622 - acc: 0.94 - ETA: 27:12 - loss: 0.1620 - acc: 0.94 - ETA: 27:11 - loss: 0.1620 - acc: 0.94 - ETA: 27:10 - loss: 0.1618 - acc: 0.94 - ETA: 27:09 - loss: 0.1618 - acc: 0.94 - ETA: 27:08 - loss: 0.1616 - acc: 0.94 - ETA: 27:07 - loss: 0.1615 - acc: 0.94 - ETA: 27:06 - loss: 0.1614 - acc: 0.94 - ETA: 27:05 - loss: 0.1612 - acc: 0.94 - ETA: 27:04 - loss: 0.1611 - acc: 0.94 - ETA: 27:03 - loss: 0.1611 - acc: 0.94 - ETA: 27:02 - loss: 0.1609 - acc: 0.94 - ETA: 27:01 - loss: 0.1608 - acc: 0.94 - ETA: 27:00 - loss: 0.1607 - acc: 0.94 - ETA: 26:59 - loss: 0.1607 - acc: 0.94 - ETA: 26:58 - loss: 0.1605 - acc: 0.94 - ETA: 26:57 - loss: 0.1604 - acc: 0.94 - ETA: 26:56 - loss: 0.1602 - acc: 0.94 - ETA: 26:55 - loss: 0.1601 - acc: 0.94 - ETA: 26:54 - loss: 0.1598 - acc: 0.94 - ETA: 26:53 - loss: 0.1597 - acc: 0.94 - ETA: 26:51 - loss: 0.1597 - acc: 0.94 - ETA: 26:50 - loss: 0.1596 - acc: 0.94 - ETA: 26:49 - loss: 0.1595 - acc: 0.94 - ETA: 26:48 - loss: 0.1593 - acc: 0.94 - ETA: 26:47 - loss: 0.1592 - acc: 0.94 - ETA: 26:46 - loss: 0.1591 - acc: 0.94 - ETA: 26:45 - loss: 0.1591 - acc: 0.94 - ETA: 26:44 - loss: 0.1590 - acc: 0.94 - ETA: 26:43 - loss: 0.1588 - acc: 0.94 - ETA: 26:42 - loss: 0.1588 - acc: 0.94 - ETA: 26:41 - loss: 0.1587 - acc: 0.94 - ETA: 26:40 - loss: 0.1587 - acc: 0.94 - ETA: 26:39 - loss: 0.1586 - acc: 0.94 - ETA: 26:39 - loss: 0.1586 - acc: 0.94 - ETA: 26:39 - loss: 0.1584 - acc: 0.94 - ETA: 26:39 - loss: 0.1583 - acc: 0.94 - ETA: 26:38 - loss: 0.1582 - acc: 0.94 - ETA: 26:37 - loss: 0.1581 - acc: 0.94 - ETA: 26:36 - loss: 0.1580 - acc: 0.94 - ETA: 26:35 - loss: 0.1578 - acc: 0.94 - ETA: 26:34 - loss: 0.1578 - acc: 0.94 - ETA: 26:33 - loss: 0.1578 - acc: 0.94 - ETA: 26:33 - loss: 0.1577 - acc: 0.9463"
     ]
    },
    {
     "name": "stdout",
     "output_type": "stream",
     "text": [
      "313344/835917 [==========>...................] - ETA: 26:32 - loss: 0.1578 - acc: 0.94 - ETA: 26:31 - loss: 0.1577 - acc: 0.94 - ETA: 26:30 - loss: 0.1577 - acc: 0.94 - ETA: 26:30 - loss: 0.1576 - acc: 0.94 - ETA: 26:29 - loss: 0.1576 - acc: 0.94 - ETA: 26:28 - loss: 0.1575 - acc: 0.94 - ETA: 26:27 - loss: 0.1574 - acc: 0.94 - ETA: 26:27 - loss: 0.1573 - acc: 0.94 - ETA: 26:27 - loss: 0.1571 - acc: 0.94 - ETA: 26:26 - loss: 0.1570 - acc: 0.94 - ETA: 26:24 - loss: 0.1569 - acc: 0.94 - ETA: 26:23 - loss: 0.1569 - acc: 0.94 - ETA: 26:22 - loss: 0.1568 - acc: 0.94 - ETA: 26:22 - loss: 0.1567 - acc: 0.94 - ETA: 26:21 - loss: 0.1566 - acc: 0.94 - ETA: 26:20 - loss: 0.1565 - acc: 0.94 - ETA: 26:18 - loss: 0.1564 - acc: 0.94 - ETA: 26:17 - loss: 0.1563 - acc: 0.94 - ETA: 26:16 - loss: 0.1563 - acc: 0.94 - ETA: 26:15 - loss: 0.1563 - acc: 0.94 - ETA: 26:13 - loss: 0.1562 - acc: 0.94 - ETA: 26:12 - loss: 0.1561 - acc: 0.94 - ETA: 26:11 - loss: 0.1560 - acc: 0.94 - ETA: 26:10 - loss: 0.1560 - acc: 0.94 - ETA: 26:09 - loss: 0.1559 - acc: 0.94 - ETA: 26:08 - loss: 0.1557 - acc: 0.94 - ETA: 26:06 - loss: 0.1556 - acc: 0.94 - ETA: 26:05 - loss: 0.1555 - acc: 0.94 - ETA: 26:04 - loss: 0.1555 - acc: 0.94 - ETA: 26:03 - loss: 0.1554 - acc: 0.94 - ETA: 26:02 - loss: 0.1554 - acc: 0.94 - ETA: 26:00 - loss: 0.1553 - acc: 0.94 - ETA: 25:59 - loss: 0.1553 - acc: 0.94 - ETA: 25:58 - loss: 0.1552 - acc: 0.94 - ETA: 25:57 - loss: 0.1551 - acc: 0.94 - ETA: 25:56 - loss: 0.1550 - acc: 0.94 - ETA: 25:55 - loss: 0.1550 - acc: 0.94 - ETA: 25:54 - loss: 0.1549 - acc: 0.94 - ETA: 25:53 - loss: 0.1547 - acc: 0.94 - ETA: 25:52 - loss: 0.1546 - acc: 0.94 - ETA: 25:51 - loss: 0.1545 - acc: 0.94 - ETA: 25:50 - loss: 0.1543 - acc: 0.94 - ETA: 25:49 - loss: 0.1543 - acc: 0.94 - ETA: 25:49 - loss: 0.1542 - acc: 0.94 - ETA: 25:48 - loss: 0.1541 - acc: 0.94 - ETA: 25:47 - loss: 0.1541 - acc: 0.94 - ETA: 25:45 - loss: 0.1541 - acc: 0.94 - ETA: 25:44 - loss: 0.1540 - acc: 0.94 - ETA: 25:42 - loss: 0.1540 - acc: 0.94 - ETA: 25:41 - loss: 0.1539 - acc: 0.94 - ETA: 25:40 - loss: 0.1539 - acc: 0.94 - ETA: 25:38 - loss: 0.1538 - acc: 0.94 - ETA: 25:37 - loss: 0.1537 - acc: 0.94 - ETA: 25:36 - loss: 0.1536 - acc: 0.94 - ETA: 25:34 - loss: 0.1535 - acc: 0.94 - ETA: 25:33 - loss: 0.1534 - acc: 0.94 - ETA: 25:32 - loss: 0.1534 - acc: 0.94 - ETA: 25:30 - loss: 0.1533 - acc: 0.94 - ETA: 25:29 - loss: 0.1532 - acc: 0.94 - ETA: 25:27 - loss: 0.1532 - acc: 0.94 - ETA: 25:26 - loss: 0.1531 - acc: 0.94 - ETA: 25:25 - loss: 0.1530 - acc: 0.94 - ETA: 25:24 - loss: 0.1530 - acc: 0.94 - ETA: 25:22 - loss: 0.1528 - acc: 0.94 - ETA: 25:21 - loss: 0.1527 - acc: 0.94 - ETA: 25:20 - loss: 0.1526 - acc: 0.94 - ETA: 25:19 - loss: 0.1525 - acc: 0.94 - ETA: 25:17 - loss: 0.1523 - acc: 0.94 - ETA: 25:16 - loss: 0.1522 - acc: 0.94 - ETA: 25:15 - loss: 0.1521 - acc: 0.94 - ETA: 25:14 - loss: 0.1520 - acc: 0.94 - ETA: 25:13 - loss: 0.1521 - acc: 0.94 - ETA: 25:11 - loss: 0.1520 - acc: 0.94 - ETA: 25:10 - loss: 0.1520 - acc: 0.94 - ETA: 25:09 - loss: 0.1520 - acc: 0.94 - ETA: 25:08 - loss: 0.1520 - acc: 0.94 - ETA: 25:06 - loss: 0.1519 - acc: 0.94 - ETA: 25:05 - loss: 0.1519 - acc: 0.94 - ETA: 25:04 - loss: 0.1518 - acc: 0.94 - ETA: 25:03 - loss: 0.1518 - acc: 0.94 - ETA: 25:02 - loss: 0.1517 - acc: 0.94 - ETA: 25:01 - loss: 0.1516 - acc: 0.94 - ETA: 24:59 - loss: 0.1516 - acc: 0.94 - ETA: 24:58 - loss: 0.1515 - acc: 0.94 - ETA: 24:57 - loss: 0.1514 - acc: 0.94 - ETA: 24:55 - loss: 0.1513 - acc: 0.94 - ETA: 24:54 - loss: 0.1512 - acc: 0.94 - ETA: 24:53 - loss: 0.1511 - acc: 0.94 - ETA: 24:51 - loss: 0.1511 - acc: 0.94 - ETA: 24:50 - loss: 0.1510 - acc: 0.94 - ETA: 24:49 - loss: 0.1509 - acc: 0.94 - ETA: 24:48 - loss: 0.1509 - acc: 0.94 - ETA: 24:46 - loss: 0.1508 - acc: 0.94 - ETA: 24:45 - loss: 0.1507 - acc: 0.94 - ETA: 24:44 - loss: 0.1507 - acc: 0.94 - ETA: 24:43 - loss: 0.1506 - acc: 0.94 - ETA: 24:41 - loss: 0.1505 - acc: 0.94 - ETA: 24:40 - loss: 0.1505 - acc: 0.94 - ETA: 24:39 - loss: 0.1504 - acc: 0.94 - ETA: 24:37 - loss: 0.1503 - acc: 0.94 - ETA: 24:36 - loss: 0.1502 - acc: 0.94 - ETA: 24:35 - loss: 0.1501 - acc: 0.94 - ETA: 24:33 - loss: 0.1501 - acc: 0.94 - ETA: 24:32 - loss: 0.1500 - acc: 0.94 - ETA: 24:31 - loss: 0.1499 - acc: 0.94 - ETA: 24:29 - loss: 0.1498 - acc: 0.94 - ETA: 24:28 - loss: 0.1498 - acc: 0.94 - ETA: 24:26 - loss: 0.1497 - acc: 0.94 - ETA: 24:25 - loss: 0.1497 - acc: 0.94 - ETA: 24:24 - loss: 0.1496 - acc: 0.94 - ETA: 24:22 - loss: 0.1495 - acc: 0.94 - ETA: 24:21 - loss: 0.1494 - acc: 0.94 - ETA: 24:20 - loss: 0.1493 - acc: 0.94 - ETA: 24:19 - loss: 0.1492 - acc: 0.94 - ETA: 24:17 - loss: 0.1492 - acc: 0.94 - ETA: 24:16 - loss: 0.1491 - acc: 0.94 - ETA: 24:15 - loss: 0.1490 - acc: 0.94 - ETA: 24:14 - loss: 0.1490 - acc: 0.94 - ETA: 24:12 - loss: 0.1489 - acc: 0.94 - ETA: 24:11 - loss: 0.1488 - acc: 0.94 - ETA: 24:10 - loss: 0.1488 - acc: 0.94 - ETA: 24:09 - loss: 0.1487 - acc: 0.94 - ETA: 24:08 - loss: 0.1487 - acc: 0.94 - ETA: 24:06 - loss: 0.1486 - acc: 0.94 - ETA: 24:05 - loss: 0.1486 - acc: 0.94 - ETA: 24:04 - loss: 0.1485 - acc: 0.94 - ETA: 24:03 - loss: 0.1484 - acc: 0.94 - ETA: 24:01 - loss: 0.1484 - acc: 0.94 - ETA: 24:00 - loss: 0.1483 - acc: 0.94 - ETA: 23:59 - loss: 0.1482 - acc: 0.94 - ETA: 23:57 - loss: 0.1482 - acc: 0.94 - ETA: 23:56 - loss: 0.1482 - acc: 0.94 - ETA: 23:55 - loss: 0.1481 - acc: 0.94 - ETA: 23:54 - loss: 0.1481 - acc: 0.94 - ETA: 23:53 - loss: 0.1480 - acc: 0.94 - ETA: 23:51 - loss: 0.1480 - acc: 0.94 - ETA: 23:51 - loss: 0.1479 - acc: 0.94 - ETA: 23:49 - loss: 0.1478 - acc: 0.94 - ETA: 23:48 - loss: 0.1477 - acc: 0.94 - ETA: 23:47 - loss: 0.1477 - acc: 0.94 - ETA: 23:46 - loss: 0.1477 - acc: 0.94 - ETA: 23:44 - loss: 0.1477 - acc: 0.94 - ETA: 23:43 - loss: 0.1476 - acc: 0.94 - ETA: 23:42 - loss: 0.1475 - acc: 0.94 - ETA: 23:40 - loss: 0.1475 - acc: 0.94 - ETA: 23:39 - loss: 0.1474 - acc: 0.94 - ETA: 23:38 - loss: 0.1473 - acc: 0.94 - ETA: 23:37 - loss: 0.1473 - acc: 0.94 - ETA: 23:35 - loss: 0.1473 - acc: 0.94 - ETA: 23:34 - loss: 0.1472 - acc: 0.94 - ETA: 23:32 - loss: 0.1472 - acc: 0.94 - ETA: 23:31 - loss: 0.1472 - acc: 0.94 - ETA: 23:30 - loss: 0.1471 - acc: 0.94 - ETA: 23:28 - loss: 0.1471 - acc: 0.94 - ETA: 23:27 - loss: 0.1470 - acc: 0.94 - ETA: 23:26 - loss: 0.1469 - acc: 0.94 - ETA: 23:25 - loss: 0.1468 - acc: 0.94 - ETA: 23:23 - loss: 0.1467 - acc: 0.94 - ETA: 23:22 - loss: 0.1466 - acc: 0.94 - ETA: 23:20 - loss: 0.1466 - acc: 0.94 - ETA: 23:19 - loss: 0.1466 - acc: 0.94 - ETA: 23:18 - loss: 0.1465 - acc: 0.94 - ETA: 23:16 - loss: 0.1465 - acc: 0.94 - ETA: 23:15 - loss: 0.1464 - acc: 0.94 - ETA: 23:14 - loss: 0.1463 - acc: 0.94 - ETA: 23:13 - loss: 0.1463 - acc: 0.94 - ETA: 23:11 - loss: 0.1462 - acc: 0.94 - ETA: 23:10 - loss: 0.1462 - acc: 0.94 - ETA: 23:09 - loss: 0.1461 - acc: 0.94 - ETA: 23:08 - loss: 0.1461 - acc: 0.94 - ETA: 23:06 - loss: 0.1460 - acc: 0.94 - ETA: 23:05 - loss: 0.1460 - acc: 0.94 - ETA: 23:04 - loss: 0.1459 - acc: 0.94 - ETA: 23:03 - loss: 0.1459 - acc: 0.94 - ETA: 23:02 - loss: 0.1458 - acc: 0.94 - ETA: 23:01 - loss: 0.1458 - acc: 0.94 - ETA: 22:59 - loss: 0.1457 - acc: 0.94 - ETA: 22:58 - loss: 0.1457 - acc: 0.94 - ETA: 22:57 - loss: 0.1456 - acc: 0.94 - ETA: 22:56 - loss: 0.1456 - acc: 0.94 - ETA: 22:56 - loss: 0.1456 - acc: 0.94 - ETA: 22:55 - loss: 0.1455 - acc: 0.94 - ETA: 22:54 - loss: 0.1455 - acc: 0.94 - ETA: 22:53 - loss: 0.1454 - acc: 0.94 - ETA: 22:52 - loss: 0.1453 - acc: 0.94 - ETA: 22:51 - loss: 0.1453 - acc: 0.94 - ETA: 22:50 - loss: 0.1453 - acc: 0.94 - ETA: 22:48 - loss: 0.1453 - acc: 0.94 - ETA: 22:47 - loss: 0.1453 - acc: 0.94 - ETA: 22:46 - loss: 0.1452 - acc: 0.94 - ETA: 22:45 - loss: 0.1451 - acc: 0.94 - ETA: 22:44 - loss: 0.1450 - acc: 0.94 - ETA: 22:43 - loss: 0.1449 - acc: 0.94 - ETA: 22:42 - loss: 0.1450 - acc: 0.94 - ETA: 22:40 - loss: 0.1449 - acc: 0.94 - ETA: 22:39 - loss: 0.1449 - acc: 0.94 - ETA: 22:37 - loss: 0.1448 - acc: 0.94 - ETA: 22:36 - loss: 0.1447 - acc: 0.94 - ETA: 22:35 - loss: 0.1447 - acc: 0.94 - ETA: 22:33 - loss: 0.1447 - acc: 0.94 - ETA: 22:32 - loss: 0.1447 - acc: 0.94 - ETA: 22:31 - loss: 0.1446 - acc: 0.94 - ETA: 22:30 - loss: 0.1446 - acc: 0.94 - ETA: 22:28 - loss: 0.1445 - acc: 0.9487"
     ]
    },
    {
     "name": "stdout",
     "output_type": "stream",
     "text": [
      "417280/835917 [=============>................] - ETA: 22:27 - loss: 0.1445 - acc: 0.94 - ETA: 22:26 - loss: 0.1444 - acc: 0.94 - ETA: 22:24 - loss: 0.1444 - acc: 0.94 - ETA: 22:23 - loss: 0.1444 - acc: 0.94 - ETA: 22:21 - loss: 0.1444 - acc: 0.94 - ETA: 22:21 - loss: 0.1443 - acc: 0.94 - ETA: 22:19 - loss: 0.1443 - acc: 0.94 - ETA: 22:18 - loss: 0.1442 - acc: 0.94 - ETA: 22:17 - loss: 0.1442 - acc: 0.94 - ETA: 22:15 - loss: 0.1442 - acc: 0.94 - ETA: 22:14 - loss: 0.1442 - acc: 0.94 - ETA: 22:13 - loss: 0.1441 - acc: 0.94 - ETA: 22:11 - loss: 0.1440 - acc: 0.94 - ETA: 22:10 - loss: 0.1439 - acc: 0.94 - ETA: 22:09 - loss: 0.1439 - acc: 0.94 - ETA: 22:08 - loss: 0.1438 - acc: 0.94 - ETA: 22:06 - loss: 0.1438 - acc: 0.94 - ETA: 22:05 - loss: 0.1438 - acc: 0.94 - ETA: 22:04 - loss: 0.1437 - acc: 0.94 - ETA: 22:02 - loss: 0.1436 - acc: 0.94 - ETA: 22:01 - loss: 0.1436 - acc: 0.94 - ETA: 22:00 - loss: 0.1436 - acc: 0.94 - ETA: 21:59 - loss: 0.1436 - acc: 0.94 - ETA: 21:58 - loss: 0.1435 - acc: 0.94 - ETA: 21:56 - loss: 0.1434 - acc: 0.94 - ETA: 21:55 - loss: 0.1434 - acc: 0.94 - ETA: 21:53 - loss: 0.1433 - acc: 0.94 - ETA: 21:52 - loss: 0.1433 - acc: 0.94 - ETA: 21:51 - loss: 0.1433 - acc: 0.94 - ETA: 21:50 - loss: 0.1432 - acc: 0.94 - ETA: 21:48 - loss: 0.1432 - acc: 0.94 - ETA: 21:47 - loss: 0.1432 - acc: 0.94 - ETA: 21:46 - loss: 0.1431 - acc: 0.94 - ETA: 21:44 - loss: 0.1430 - acc: 0.94 - ETA: 21:43 - loss: 0.1429 - acc: 0.94 - ETA: 21:42 - loss: 0.1428 - acc: 0.94 - ETA: 21:40 - loss: 0.1428 - acc: 0.94 - ETA: 21:39 - loss: 0.1428 - acc: 0.94 - ETA: 21:38 - loss: 0.1428 - acc: 0.94 - ETA: 21:36 - loss: 0.1428 - acc: 0.94 - ETA: 21:35 - loss: 0.1427 - acc: 0.94 - ETA: 21:34 - loss: 0.1427 - acc: 0.94 - ETA: 21:33 - loss: 0.1426 - acc: 0.94 - ETA: 21:32 - loss: 0.1426 - acc: 0.94 - ETA: 21:30 - loss: 0.1426 - acc: 0.94 - ETA: 21:29 - loss: 0.1425 - acc: 0.94 - ETA: 21:28 - loss: 0.1425 - acc: 0.94 - ETA: 21:27 - loss: 0.1424 - acc: 0.94 - ETA: 21:25 - loss: 0.1424 - acc: 0.94 - ETA: 21:24 - loss: 0.1424 - acc: 0.94 - ETA: 21:23 - loss: 0.1424 - acc: 0.94 - ETA: 21:21 - loss: 0.1423 - acc: 0.94 - ETA: 21:20 - loss: 0.1423 - acc: 0.94 - ETA: 21:19 - loss: 0.1422 - acc: 0.94 - ETA: 21:18 - loss: 0.1422 - acc: 0.94 - ETA: 21:16 - loss: 0.1422 - acc: 0.94 - ETA: 21:15 - loss: 0.1422 - acc: 0.94 - ETA: 21:14 - loss: 0.1422 - acc: 0.94 - ETA: 21:12 - loss: 0.1421 - acc: 0.94 - ETA: 21:11 - loss: 0.1421 - acc: 0.94 - ETA: 21:10 - loss: 0.1421 - acc: 0.94 - ETA: 21:08 - loss: 0.1421 - acc: 0.94 - ETA: 21:07 - loss: 0.1421 - acc: 0.94 - ETA: 21:06 - loss: 0.1420 - acc: 0.94 - ETA: 21:05 - loss: 0.1420 - acc: 0.94 - ETA: 21:03 - loss: 0.1420 - acc: 0.94 - ETA: 21:02 - loss: 0.1419 - acc: 0.94 - ETA: 21:01 - loss: 0.1418 - acc: 0.94 - ETA: 20:59 - loss: 0.1418 - acc: 0.94 - ETA: 20:58 - loss: 0.1418 - acc: 0.94 - ETA: 20:57 - loss: 0.1417 - acc: 0.94 - ETA: 20:56 - loss: 0.1417 - acc: 0.94 - ETA: 20:54 - loss: 0.1417 - acc: 0.94 - ETA: 20:53 - loss: 0.1416 - acc: 0.94 - ETA: 20:52 - loss: 0.1416 - acc: 0.94 - ETA: 20:50 - loss: 0.1416 - acc: 0.94 - ETA: 20:49 - loss: 0.1416 - acc: 0.94 - ETA: 20:47 - loss: 0.1415 - acc: 0.94 - ETA: 20:46 - loss: 0.1415 - acc: 0.94 - ETA: 20:45 - loss: 0.1415 - acc: 0.94 - ETA: 20:44 - loss: 0.1414 - acc: 0.94 - ETA: 20:43 - loss: 0.1414 - acc: 0.94 - ETA: 20:42 - loss: 0.1414 - acc: 0.94 - ETA: 20:41 - loss: 0.1414 - acc: 0.94 - ETA: 20:40 - loss: 0.1413 - acc: 0.94 - ETA: 20:39 - loss: 0.1413 - acc: 0.94 - ETA: 20:38 - loss: 0.1412 - acc: 0.94 - ETA: 20:37 - loss: 0.1412 - acc: 0.94 - ETA: 20:36 - loss: 0.1412 - acc: 0.94 - ETA: 20:35 - loss: 0.1411 - acc: 0.94 - ETA: 20:33 - loss: 0.1411 - acc: 0.94 - ETA: 20:32 - loss: 0.1411 - acc: 0.94 - ETA: 20:31 - loss: 0.1411 - acc: 0.94 - ETA: 20:29 - loss: 0.1410 - acc: 0.94 - ETA: 20:28 - loss: 0.1410 - acc: 0.94 - ETA: 20:27 - loss: 0.1410 - acc: 0.94 - ETA: 20:25 - loss: 0.1410 - acc: 0.94 - ETA: 20:24 - loss: 0.1409 - acc: 0.94 - ETA: 20:22 - loss: 0.1409 - acc: 0.94 - ETA: 20:21 - loss: 0.1408 - acc: 0.94 - ETA: 20:20 - loss: 0.1408 - acc: 0.94 - ETA: 20:18 - loss: 0.1407 - acc: 0.94 - ETA: 20:17 - loss: 0.1407 - acc: 0.94 - ETA: 20:16 - loss: 0.1407 - acc: 0.94 - ETA: 20:15 - loss: 0.1406 - acc: 0.94 - ETA: 20:13 - loss: 0.1406 - acc: 0.94 - ETA: 20:12 - loss: 0.1406 - acc: 0.94 - ETA: 20:11 - loss: 0.1405 - acc: 0.94 - ETA: 20:10 - loss: 0.1405 - acc: 0.94 - ETA: 20:08 - loss: 0.1405 - acc: 0.94 - ETA: 20:07 - loss: 0.1405 - acc: 0.94 - ETA: 20:06 - loss: 0.1405 - acc: 0.94 - ETA: 20:04 - loss: 0.1404 - acc: 0.94 - ETA: 20:03 - loss: 0.1404 - acc: 0.94 - ETA: 20:01 - loss: 0.1403 - acc: 0.94 - ETA: 20:00 - loss: 0.1403 - acc: 0.94 - ETA: 19:59 - loss: 0.1403 - acc: 0.94 - ETA: 19:58 - loss: 0.1402 - acc: 0.94 - ETA: 19:56 - loss: 0.1402 - acc: 0.94 - ETA: 19:55 - loss: 0.1402 - acc: 0.94 - ETA: 19:54 - loss: 0.1402 - acc: 0.94 - ETA: 19:52 - loss: 0.1402 - acc: 0.94 - ETA: 19:51 - loss: 0.1401 - acc: 0.94 - ETA: 19:50 - loss: 0.1401 - acc: 0.94 - ETA: 19:48 - loss: 0.1401 - acc: 0.94 - ETA: 19:47 - loss: 0.1400 - acc: 0.94 - ETA: 19:46 - loss: 0.1400 - acc: 0.94 - ETA: 19:44 - loss: 0.1401 - acc: 0.94 - ETA: 19:43 - loss: 0.1400 - acc: 0.94 - ETA: 19:42 - loss: 0.1400 - acc: 0.94 - ETA: 19:40 - loss: 0.1400 - acc: 0.94 - ETA: 19:39 - loss: 0.1399 - acc: 0.94 - ETA: 19:38 - loss: 0.1399 - acc: 0.94 - ETA: 19:36 - loss: 0.1399 - acc: 0.94 - ETA: 19:35 - loss: 0.1399 - acc: 0.94 - ETA: 19:33 - loss: 0.1399 - acc: 0.94 - ETA: 19:32 - loss: 0.1398 - acc: 0.94 - ETA: 19:31 - loss: 0.1398 - acc: 0.94 - ETA: 19:29 - loss: 0.1397 - acc: 0.94 - ETA: 19:28 - loss: 0.1397 - acc: 0.94 - ETA: 19:27 - loss: 0.1396 - acc: 0.94 - ETA: 19:26 - loss: 0.1396 - acc: 0.94 - ETA: 19:24 - loss: 0.1395 - acc: 0.94 - ETA: 19:23 - loss: 0.1394 - acc: 0.94 - ETA: 19:22 - loss: 0.1394 - acc: 0.94 - ETA: 19:20 - loss: 0.1394 - acc: 0.94 - ETA: 19:19 - loss: 0.1393 - acc: 0.94 - ETA: 19:17 - loss: 0.1393 - acc: 0.94 - ETA: 19:16 - loss: 0.1393 - acc: 0.94 - ETA: 19:15 - loss: 0.1392 - acc: 0.94 - ETA: 19:14 - loss: 0.1392 - acc: 0.94 - ETA: 19:12 - loss: 0.1392 - acc: 0.94 - ETA: 19:11 - loss: 0.1392 - acc: 0.94 - ETA: 19:10 - loss: 0.1391 - acc: 0.94 - ETA: 19:08 - loss: 0.1392 - acc: 0.94 - ETA: 19:07 - loss: 0.1391 - acc: 0.94 - ETA: 19:06 - loss: 0.1390 - acc: 0.94 - ETA: 19:04 - loss: 0.1390 - acc: 0.94 - ETA: 19:03 - loss: 0.1389 - acc: 0.94 - ETA: 19:02 - loss: 0.1389 - acc: 0.94 - ETA: 19:00 - loss: 0.1389 - acc: 0.94 - ETA: 18:59 - loss: 0.1389 - acc: 0.94 - ETA: 18:57 - loss: 0.1389 - acc: 0.94 - ETA: 18:56 - loss: 0.1389 - acc: 0.94 - ETA: 18:55 - loss: 0.1389 - acc: 0.94 - ETA: 18:54 - loss: 0.1389 - acc: 0.94 - ETA: 18:52 - loss: 0.1388 - acc: 0.94 - ETA: 18:51 - loss: 0.1388 - acc: 0.94 - ETA: 18:49 - loss: 0.1387 - acc: 0.94 - ETA: 18:48 - loss: 0.1387 - acc: 0.94 - ETA: 18:47 - loss: 0.1387 - acc: 0.94 - ETA: 18:45 - loss: 0.1386 - acc: 0.94 - ETA: 18:44 - loss: 0.1386 - acc: 0.94 - ETA: 18:43 - loss: 0.1386 - acc: 0.94 - ETA: 18:41 - loss: 0.1386 - acc: 0.94 - ETA: 18:40 - loss: 0.1386 - acc: 0.94 - ETA: 18:39 - loss: 0.1386 - acc: 0.94 - ETA: 18:37 - loss: 0.1385 - acc: 0.94 - ETA: 18:36 - loss: 0.1385 - acc: 0.94 - ETA: 18:35 - loss: 0.1385 - acc: 0.94 - ETA: 18:33 - loss: 0.1385 - acc: 0.94 - ETA: 18:32 - loss: 0.1384 - acc: 0.94 - ETA: 18:31 - loss: 0.1384 - acc: 0.94 - ETA: 18:29 - loss: 0.1384 - acc: 0.94 - ETA: 18:28 - loss: 0.1384 - acc: 0.94 - ETA: 18:27 - loss: 0.1383 - acc: 0.94 - ETA: 18:25 - loss: 0.1383 - acc: 0.94 - ETA: 18:24 - loss: 0.1383 - acc: 0.94 - ETA: 18:23 - loss: 0.1383 - acc: 0.95 - ETA: 18:21 - loss: 0.1382 - acc: 0.95 - ETA: 18:20 - loss: 0.1382 - acc: 0.94 - ETA: 18:19 - loss: 0.1382 - acc: 0.94 - ETA: 18:17 - loss: 0.1381 - acc: 0.95 - ETA: 18:16 - loss: 0.1381 - acc: 0.95 - ETA: 18:15 - loss: 0.1381 - acc: 0.95 - ETA: 18:13 - loss: 0.1381 - acc: 0.95 - ETA: 18:12 - loss: 0.1380 - acc: 0.95 - ETA: 18:11 - loss: 0.1380 - acc: 0.95 - ETA: 18:09 - loss: 0.1380 - acc: 0.95 - ETA: 18:08 - loss: 0.1380 - acc: 0.95 - ETA: 18:07 - loss: 0.1380 - acc: 0.95 - ETA: 18:05 - loss: 0.1379 - acc: 0.95 - ETA: 18:04 - loss: 0.1379 - acc: 0.9500"
     ]
    }
   ],
   "source": [
    "model.fit(train_X, train_y, batch_size=512, epochs=2, validation_data=(val_X, val_y))"
   ]
  },
  {
   "cell_type": "code",
   "execution_count": null,
   "metadata": {},
   "outputs": [],
   "source": [
    "# model.save_weights(\"model_Embeddings+GRU.h5\")"
   ]
  },
  {
   "cell_type": "markdown",
   "metadata": {},
   "source": [
    "#### Fscore for validation with different thresholds"
   ]
  },
  {
   "cell_type": "code",
   "execution_count": 7,
   "metadata": {},
   "outputs": [
    {
     "name": "stdout",
     "output_type": "stream",
     "text": [
      "261225/261225 [==============================] - ETA: 3: - ETA: 3: - ETA: 3: - ETA: 3: - ETA: 3: - ETA: 3: - ETA: 3: - ETA: 3: - ETA: 3: - ETA: 3: - ETA: 3: - ETA: 3: - ETA: 2: - ETA: 2: - ETA: 2: - ETA: 2: - ETA: 2: - ETA: 2: - ETA: 2: - ETA: 2: - ETA: 2: - ETA: 2: - ETA: 2: - ETA: 2: - ETA: 2: - ETA: 2: - ETA: 2: - ETA: 2: - ETA: 2: - ETA: 2: - ETA: 2: - ETA: 2: - ETA: 2: - ETA: 2: - ETA: 2: - ETA: 2: - ETA: 2: - ETA: 2: - ETA: 2: - ETA: 2: - ETA: 2: - ETA: 2: - ETA: 2: - ETA: 2: - ETA: 2: - ETA: 2: - ETA: 2: - ETA: 2: - ETA: 2: - ETA: 2: - ETA: 2: - ETA: 2: - ETA: 2: - ETA: 2: - ETA: 2: - ETA: 2: - ETA: 2: - ETA: 2: - ETA: 2: - ETA: 2: - ETA: 2: - ETA: 2: - ETA: 2: - ETA: 2: - ETA: 2: - ETA: 2: - ETA: 2: - ETA: 2: - ETA: 2: - ETA: 2: - ETA: 2: - ETA: 2: - ETA: 2: - ETA: 2: - ETA: 2: - ETA: 2: - ETA: 2: - ETA: 2: - ETA: 2: - ETA: 2: - ETA: 2: - ETA: 2: - ETA: 2: - ETA: 2: - ETA: 2: - ETA: 2: - ETA: 2: - ETA: 2: - ETA: 2: - ETA: 2: - ETA: 2: - ETA: 2: - ETA: 2: - ETA: 2: - ETA: 2: - ETA: 2: - ETA: 1: - ETA: 1: - ETA: 1: - ETA: 1: - ETA: 1: - ETA: 1: - ETA: 1: - ETA: 1: - ETA: 1: - ETA: 1: - ETA: 1: - ETA: 1: - ETA: 1: - ETA: 1: - ETA: 1: - ETA: 1: - ETA: 1: - ETA: 1: - ETA: 1: - ETA: 1: - ETA: 1: - ETA: 1: - ETA: 1: - ETA: 1: - ETA: 1: - ETA: 1: - ETA: 1: - ETA: 1: - ETA: 1: - ETA: 1: - ETA: 1: - ETA: 1: - ETA: 1: - ETA: 1: - ETA: 1: - ETA: 1: - ETA: 1: - ETA: 1: - ETA: 1: - ETA: 1: - ETA: 1: - ETA: 1: - ETA: 1: - ETA: 1: - ETA: 1: - ETA: 1: - ETA: 1: - ETA: 1: - ETA: 1: - ETA: 1: - ETA: 1: - ETA: 1: - ETA: 1: - ETA: 1: - ETA: 1: - ETA: 1: - ETA: 1: - ETA: 1: - ETA: 1: - ETA: 1: - ETA: 1: - ETA: 1: - ETA: 1: - ETA: 1: - ETA: 1: - ETA: 1: - ETA: 1: - ETA: 1: - ETA: 1: - ETA: 1: - ETA: 1: - ETA: 1: - ETA: 1: - ETA: 1: - ETA: 1: - ETA: 1: - ETA: 1: - ETA: 1: - ETA: 1: - ETA: 1: - ETA: 59s - ETA: 58 - ETA: 58 - ETA: 57 - ETA: 56 - ETA: 55 - ETA: 55 - ETA: 54 - ETA: 53 - ETA: 52 - ETA: 52 - ETA: 51 - ETA: 50 - ETA: 49 - ETA: 48 - ETA: 48 - ETA: 47 - ETA: 46 - ETA: 45 - ETA: 45 - ETA: 44 - ETA: 43 - ETA: 42 - ETA: 42 - ETA: 41 - ETA: 40 - ETA: 39 - ETA: 39 - ETA: 38 - ETA: 37 - ETA: 36 - ETA: 36 - ETA: 35 - ETA: 34 - ETA: 33 - ETA: 33 - ETA: 32 - ETA: 31 - ETA: 30 - ETA: 29 - ETA: 29 - ETA: 28 - ETA: 27 - ETA: 26 - ETA: 26 - ETA: 25 - ETA: 24 - ETA: 23 - ETA: 23 - ETA: 22 - ETA: 21 - ETA: 20 - ETA: 20 - ETA: 19 - ETA: 18 - ETA: 17 - ETA: 16 - ETA: 16 - ETA: 15 - ETA: 14 - ETA: 13 - ETA: 13 - ETA: 12 - ETA: 11 - ETA: 10 - ETA: 10 - ETA: 9 - ETA:  - ETA:  - ETA:  - ETA:  - ETA:  - ETA:  - ETA:  - ETA:  - ETA:  - ETA:  - ETA:  - ETA:  - 196s 749us/step\n",
      "F1 score at threshold 0.1 is 0.590161102232972\n",
      "F1 score at threshold 0.11 is 0.5974129353233831\n",
      "F1 score at threshold 0.12 is 0.6045291043594326\n",
      "F1 score at threshold 0.13 is 0.6102077999953874\n",
      "F1 score at threshold 0.14 is 0.6157608823460244\n",
      "F1 score at threshold 0.15 is 0.621109672469189\n",
      "F1 score at threshold 0.16 is 0.6256590509666081\n",
      "F1 score at threshold 0.17 is 0.6286652242035365\n",
      "F1 score at threshold 0.18 is 0.6325520307132755\n",
      "F1 score at threshold 0.19 is 0.6356195314705053\n",
      "F1 score at threshold 0.2 is 0.6375852909005678\n",
      "F1 score at threshold 0.21 is 0.6398476553201619\n",
      "F1 score at threshold 0.22 is 0.6420614682592941\n",
      "F1 score at threshold 0.23 is 0.6437807965589524\n",
      "F1 score at threshold 0.24 is 0.6450027609055771\n",
      "F1 score at threshold 0.25 is 0.6457371498922746\n",
      "F1 score at threshold 0.26 is 0.6458203280177062\n",
      "F1 score at threshold 0.27 is 0.6471180106367688\n",
      "F1 score at threshold 0.28 is 0.6469594594594595\n",
      "F1 score at threshold 0.29 is 0.6469338369828247\n",
      "F1 score at threshold 0.3 is 0.6454042743984457\n",
      "F1 score at threshold 0.31 is 0.6446691287764122\n",
      "F1 score at threshold 0.32 is 0.6431067246980936\n",
      "F1 score at threshold 0.33 is 0.640360416343017\n",
      "F1 score at threshold 0.34 is 0.6382737795671868\n",
      "F1 score at threshold 0.35 is 0.6353682602329874\n",
      "F1 score at threshold 0.36 is 0.6346407542070207\n",
      "F1 score at threshold 0.37 is 0.6315172054223149\n",
      "F1 score at threshold 0.38 is 0.6285506911682227\n",
      "F1 score at threshold 0.39 is 0.6251668891855808\n",
      "F1 score at threshold 0.4 is 0.6202677122769064\n",
      "F1 score at threshold 0.41 is 0.6154319931565441\n",
      "F1 score at threshold 0.42 is 0.6110361529147206\n",
      "F1 score at threshold 0.43 is 0.6070003500175009\n",
      "F1 score at threshold 0.44 is 0.6010843757751869\n",
      "F1 score at threshold 0.45 is 0.596974259697426\n",
      "F1 score at threshold 0.46 is 0.5918182148172348\n",
      "F1 score at threshold 0.47 is 0.5856706980847701\n",
      "F1 score at threshold 0.48 is 0.5798891410289795\n",
      "F1 score at threshold 0.49 is 0.5732474479225524\n",
      "F1 score at threshold 0.5 is 0.5655125076266017\n"
     ]
    }
   ],
   "source": [
    "pred_val_y = model.predict([val_X], batch_size=1024, verbose=1)"
   ]
  },
  {
   "cell_type": "code",
   "execution_count": 23,
   "metadata": {},
   "outputs": [
    {
     "name": "stdout",
     "output_type": "stream",
     "text": [
      "F1 score at threshold 0.27 is 0.6471180106367688\n"
     ]
    }
   ],
   "source": [
    "f1_final = 0\n",
    "for thresh in np.arange(0.1, 0.501, 0.01):\n",
    "    thresh = np.round(thresh, 2)\n",
    "    f1 = metrics.f1_score(val_y, (pred_val_y>threshold).astype(int))\n",
    "    if f1>f1_final:\n",
    "        f1_final = f1\n",
    "        threshold = thresh\n",
    "    \n",
    "print(\"F1 score at threshold {0} is {1}\".format(threshold, metrics.f1_score(val_y, (pred_val_y>threshold).astype(int))))"
   ]
  },
  {
   "cell_type": "markdown",
   "metadata": {},
   "source": [
    "# Testing with real data test"
   ]
  },
  {
   "cell_type": "code",
   "execution_count": null,
   "metadata": {},
   "outputs": [],
   "source": [
    "pred_test_y = model.predict([test_X], batch_size=1024, verbose=1)\n",
    "pred_test_y = (pred_test_y>threshold).astype(int)"
   ]
  },
  {
   "cell_type": "code",
   "execution_count": null,
   "metadata": {},
   "outputs": [],
   "source": [
    "submission_df = pd.DataFrame({\"qid\":test_df[\"qid\"].values})\n",
    "submission_df['prediction'] = pred_test_y\n",
    "submission_df.to_csv(\"submission.csv\", index=False)"
   ]
  }
 ],
 "metadata": {
  "kernelspec": {
   "display_name": "Python 3",
   "language": "python",
   "name": "python3"
  },
  "language_info": {
   "codemirror_mode": {
    "name": "ipython",
    "version": 3
   },
   "file_extension": ".py",
   "mimetype": "text/x-python",
   "name": "python",
   "nbconvert_exporter": "python",
   "pygments_lexer": "ipython3",
   "version": "3.6.7"
  }
 },
 "nbformat": 4,
 "nbformat_minor": 2
}
